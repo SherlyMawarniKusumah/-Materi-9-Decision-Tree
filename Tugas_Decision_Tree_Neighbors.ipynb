{
  "nbformat": 4,
  "nbformat_minor": 0,
  "metadata": {
    "colab": {
      "provenance": []
    },
    "kernelspec": {
      "name": "python3",
      "display_name": "Python 3"
    },
    "language_info": {
      "name": "python"
    }
  },
  "cells": [
    {
      "cell_type": "code",
      "execution_count": 2,
      "metadata": {
        "id": "Z-MjHtMwQjAj"
      },
      "outputs": [],
      "source": [
        "from sklearn import tree"
      ]
    },
    {
      "cell_type": "code",
      "source": [
        "# Database Gerbang Logika AND\n",
        "# X = Data,y=Target\n",
        "x = [[0, 0, 0],\n",
        "     [0, 5, 0],\n",
        "     [0, 0, 5],\n",
        "     [0, 5, 5],\n",
        "     [5, 5, 0],\n",
        "     [5, 0, 5],\n",
        "     [5, 5, 5],\n",
        "     [10, 5, 5],\n",
        "     [5, 10, 5],\n",
        "     [10, 10, 10]]\n",
        "y = [0,0,0,5,5,5,10,10,5,0]"
      ],
      "metadata": {
        "id": "Edaw_XxtTV79"
      },
      "execution_count": 3,
      "outputs": []
    },
    {
      "cell_type": "code",
      "source": [
        "# Training and Classify\n",
        "clf = tree.DecisionTreeClassifier()\n",
        "clf = clf.fit(x,y)"
      ],
      "metadata": {
        "id": "lhdmvWQXUDKn"
      },
      "execution_count": 4,
      "outputs": []
    },
    {
      "cell_type": "code",
      "source": [
        "# Prediction\n",
        "print(\"Logika AND Metode Decision Tree\")\n",
        "print(\"Logika = Prediksi\")\n",
        "print(\"10 10 5 = \", clf.predict([[10, 10, 5]]))\n",
        "print(\"5 10 2 = \", clf.predict([[5, 10, 2]]))\n",
        "print(\"2 0 10 = \", clf.predict([[2, 0, 10]]))\n",
        "print(\"5 0 2 = \", clf.predict([[5, 0, 2]]))\n",
        "print(\"0 0 2 = \", clf.predict([[0, 0, 2]]))\n",
        "print(\"2 10 2 = \", clf.predict([[2, 10, 2]]))\n",
        "print(\"1 12 5 = \", clf.predict([[1, 12, 5]]))\n",
        "print(\"2 2 6 = \", clf.predict([[2, 2, 6]]))\n",
        "print(\"10 5 7 = \", clf.predict([[10, 5, 7]]))"
      ],
      "metadata": {
        "colab": {
          "base_uri": "https://localhost:8080/"
        },
        "id": "CBuu5jqfVCOM",
        "outputId": "ef8a8ccf-d1e5-4cee-be88-2dd7a0853b11"
      },
      "execution_count": 17,
      "outputs": [
        {
          "output_type": "stream",
          "name": "stdout",
          "text": [
            "Logika AND Metode Decision Tree\n",
            "Logika = Prediksi\n",
            "10 10 5 =  [10]\n",
            "5 10 2 =  [5]\n",
            "2 0 10 =  [0]\n",
            "5 0 2 =  [5]\n",
            "0 0 2 =  [0]\n",
            "2 10 2 =  [0]\n",
            "1 12 5 =  [5]\n",
            "2 2 6 =  [0]\n",
            "10 5 7 =  [10]\n"
          ]
        }
      ]
    },
    {
      "cell_type": "code",
      "source": [
        "from google.colab import drive\n",
        "import pandas as pd\n",
        "import numpy as np\n",
        "from sklearn.tree import DecisionTreeRegressor\n",
        "import matplotlib.pyplot as plt"
      ],
      "metadata": {
        "id": "Gy21t9zIWDwU"
      },
      "execution_count": 9,
      "outputs": []
    },
    {
      "cell_type": "code",
      "source": [
        "# Mount Google Drive\n",
        "drive.mount('/content/drive')\n",
        "\n",
        "#Path ke file di Google Drive\n",
        "FileDB ='/content/drive/My Drive/MODUL 9 PRAKFISKOM/Cosinus.txt' # Sesuai path file\n",
        "Database = pd.read_csv(FileDB,sep=\",\",header=0)\n",
        "\n",
        "#Lihat data\n",
        "print(\"--------------------\")\n",
        "print(Database)"
      ],
      "metadata": {
        "colab": {
          "base_uri": "https://localhost:8080/"
        },
        "id": "8wsn8XqQWrpZ",
        "outputId": "49fcd074-7458-4934-eec5-d410bc5e7a34"
      },
      "execution_count": 18,
      "outputs": [
        {
          "output_type": "stream",
          "name": "stdout",
          "text": [
            "Drive already mounted at /content/drive; to attempt to forcibly remount, call drive.mount(\"/content/drive\", force_remount=True).\n",
            "--------------------\n",
            "    Feature    Target\n",
            "0         1  0.540302\n",
            "1         2 -0.416147\n",
            "2         3 -0.989992\n",
            "3         4 -0.653644\n",
            "4         5  0.283662\n",
            "5         6  0.960170\n",
            "6         7  0.753902\n",
            "7         8 -0.145500\n",
            "8         9 -0.911130\n",
            "9        10 -0.839072\n",
            "10       11  0.004426\n",
            "11       12  0.843854\n",
            "12       13  0.907447\n",
            "13       14  0.136737\n",
            "14       15 -0.759688\n",
            "15       16 -0.957659\n",
            "16       17 -0.275163\n",
            "17       18  0.660317\n",
            "18       19  0.988705\n",
            "19       20  0.408082\n"
          ]
        }
      ]
    },
    {
      "cell_type": "code",
      "source": [
        "# x data, y target\n",
        "x = Database[['Feature']]\n",
        "y = Database.Target"
      ],
      "metadata": {
        "id": "ETEoeF6fZz6g"
      },
      "execution_count": 19,
      "outputs": []
    },
    {
      "cell_type": "code",
      "source": [
        "reg = DecisionTreeRegressor(random_state=1)\n",
        "reg = reg.fit(x,y)"
      ],
      "metadata": {
        "id": "MtRpAZvlaC3A"
      },
      "execution_count": 20,
      "outputs": []
    },
    {
      "cell_type": "code",
      "source": [
        "# Display predicted data\n",
        "xx = np.arange(1, 21, 1)\n",
        "n = len(xx)\n",
        "print(\"xx(i) Decision Tree\")\n",
        "for i in range(n):\n",
        "  y_dct = reg.predict([[xx[i]]])\n",
        "  print('{:.2f}'.format(xx[i]), y_dct)\n",
        "\n",
        "# Plot the predicted data\n",
        "y_dct2 = reg.predict(x)\n",
        "plt.figure()\n",
        "plt.plot(x, y_dct2, color='red')\n",
        "plt.scatter(x, y, color='blue')\n",
        "plt.title('Prediksi Data Menggunakan Decision Tree')\n",
        "plt.xlabel('x')\n",
        "plt.ylabel('y')\n",
        "plt.legend(['Decision Tree', 'data'], loc=2)\n",
        "plt.show()"
      ],
      "metadata": {
        "colab": {
          "base_uri": "https://localhost:8080/",
          "height": 1000
        },
        "id": "keXcgmnYbaLC",
        "outputId": "19b37ce7-2fd0-4125-f8c6-6c157b104d11"
      },
      "execution_count": 22,
      "outputs": [
        {
          "output_type": "stream",
          "name": "stdout",
          "text": [
            "xx(i) Decision Tree\n",
            "1.00 [0.5403023]\n",
            "2.00 [-0.41614684]\n",
            "3.00 [-0.9899925]\n",
            "4.00 [-0.65364362]\n",
            "5.00 [0.28366219]\n",
            "6.00 [0.96017029]\n",
            "7.00 [0.75390225]\n",
            "8.00 [-0.14550003]\n",
            "9.00 [-0.91113026]\n",
            "10.00 [-0.83907153]\n",
            "11.00 [0.0044257]\n",
            "12.00 [0.84385396]\n",
            "13.00 [0.90744678]\n",
            "14.00 [0.13673722]\n",
            "15.00 [-0.75968791]\n",
            "16.00 [-0.95765948]\n",
            "17.00 [-0.27516334]\n",
            "18.00 [0.66031671]\n",
            "19.00 [0.98870462]\n",
            "20.00 [0.40808206]\n"
          ]
        },
        {
          "output_type": "stream",
          "name": "stderr",
          "text": [
            "/usr/local/lib/python3.10/dist-packages/sklearn/base.py:493: UserWarning: X does not have valid feature names, but DecisionTreeRegressor was fitted with feature names\n",
            "  warnings.warn(\n",
            "/usr/local/lib/python3.10/dist-packages/sklearn/base.py:493: UserWarning: X does not have valid feature names, but DecisionTreeRegressor was fitted with feature names\n",
            "  warnings.warn(\n",
            "/usr/local/lib/python3.10/dist-packages/sklearn/base.py:493: UserWarning: X does not have valid feature names, but DecisionTreeRegressor was fitted with feature names\n",
            "  warnings.warn(\n",
            "/usr/local/lib/python3.10/dist-packages/sklearn/base.py:493: UserWarning: X does not have valid feature names, but DecisionTreeRegressor was fitted with feature names\n",
            "  warnings.warn(\n",
            "/usr/local/lib/python3.10/dist-packages/sklearn/base.py:493: UserWarning: X does not have valid feature names, but DecisionTreeRegressor was fitted with feature names\n",
            "  warnings.warn(\n",
            "/usr/local/lib/python3.10/dist-packages/sklearn/base.py:493: UserWarning: X does not have valid feature names, but DecisionTreeRegressor was fitted with feature names\n",
            "  warnings.warn(\n",
            "/usr/local/lib/python3.10/dist-packages/sklearn/base.py:493: UserWarning: X does not have valid feature names, but DecisionTreeRegressor was fitted with feature names\n",
            "  warnings.warn(\n",
            "/usr/local/lib/python3.10/dist-packages/sklearn/base.py:493: UserWarning: X does not have valid feature names, but DecisionTreeRegressor was fitted with feature names\n",
            "  warnings.warn(\n",
            "/usr/local/lib/python3.10/dist-packages/sklearn/base.py:493: UserWarning: X does not have valid feature names, but DecisionTreeRegressor was fitted with feature names\n",
            "  warnings.warn(\n",
            "/usr/local/lib/python3.10/dist-packages/sklearn/base.py:493: UserWarning: X does not have valid feature names, but DecisionTreeRegressor was fitted with feature names\n",
            "  warnings.warn(\n",
            "/usr/local/lib/python3.10/dist-packages/sklearn/base.py:493: UserWarning: X does not have valid feature names, but DecisionTreeRegressor was fitted with feature names\n",
            "  warnings.warn(\n",
            "/usr/local/lib/python3.10/dist-packages/sklearn/base.py:493: UserWarning: X does not have valid feature names, but DecisionTreeRegressor was fitted with feature names\n",
            "  warnings.warn(\n",
            "/usr/local/lib/python3.10/dist-packages/sklearn/base.py:493: UserWarning: X does not have valid feature names, but DecisionTreeRegressor was fitted with feature names\n",
            "  warnings.warn(\n",
            "/usr/local/lib/python3.10/dist-packages/sklearn/base.py:493: UserWarning: X does not have valid feature names, but DecisionTreeRegressor was fitted with feature names\n",
            "  warnings.warn(\n",
            "/usr/local/lib/python3.10/dist-packages/sklearn/base.py:493: UserWarning: X does not have valid feature names, but DecisionTreeRegressor was fitted with feature names\n",
            "  warnings.warn(\n",
            "/usr/local/lib/python3.10/dist-packages/sklearn/base.py:493: UserWarning: X does not have valid feature names, but DecisionTreeRegressor was fitted with feature names\n",
            "  warnings.warn(\n",
            "/usr/local/lib/python3.10/dist-packages/sklearn/base.py:493: UserWarning: X does not have valid feature names, but DecisionTreeRegressor was fitted with feature names\n",
            "  warnings.warn(\n",
            "/usr/local/lib/python3.10/dist-packages/sklearn/base.py:493: UserWarning: X does not have valid feature names, but DecisionTreeRegressor was fitted with feature names\n",
            "  warnings.warn(\n",
            "/usr/local/lib/python3.10/dist-packages/sklearn/base.py:493: UserWarning: X does not have valid feature names, but DecisionTreeRegressor was fitted with feature names\n",
            "  warnings.warn(\n",
            "/usr/local/lib/python3.10/dist-packages/sklearn/base.py:493: UserWarning: X does not have valid feature names, but DecisionTreeRegressor was fitted with feature names\n",
            "  warnings.warn(\n"
          ]
        },
        {
          "output_type": "display_data",
          "data": {
            "text/plain": [
              "<Figure size 640x480 with 1 Axes>"
            ],
            "image/png": "[encoded data removed]"
          },
          "metadata": {}
        }
      ]
    }
  ]
}